{
 "cells": [
  {
   "cell_type": "code",
   "execution_count": 34,
   "metadata": {},
   "outputs": [],
   "source": [
    "import pandas as pd\n",
    "import numpy as np\n",
    "\n",
    "from fancyimpute import KNN, NuclearNormMinimization, SoftImpute, BiScaler"
   ]
  },
  {
   "cell_type": "code",
   "execution_count": 6,
   "metadata": {},
   "outputs": [],
   "source": [
    "data = pd.read_csv(\"train_with_missing/1.csv\",index_col = False)"
   ]
  },
  {
   "cell_type": "code",
   "execution_count": 8,
   "metadata": {},
   "outputs": [
    {
     "name": "stdout",
     "output_type": "stream",
     "text": [
      "[SoftImpute] Max Singular Value of X_init = 35099.946143\n",
      "[SoftImpute] Iter 1: observed MAE=42.998796 rank=2\n",
      "[SoftImpute] Iter 2: observed MAE=41.641168 rank=2\n",
      "[SoftImpute] Iter 3: observed MAE=41.573833 rank=2\n",
      "[SoftImpute] Iter 4: observed MAE=41.577693 rank=2\n",
      "[SoftImpute] Iter 5: observed MAE=41.582146 rank=2\n",
      "[SoftImpute] Iter 6: observed MAE=41.583886 rank=2\n",
      "[SoftImpute] Stopped after iteration 6 for lambda=701.998923\n"
     ]
    }
   ],
   "source": [
    "values = data.values\n",
    "X_filled_softimpute = SoftImpute().fit_transform(values)"
   ]
  },
  {
   "cell_type": "code",
   "execution_count": 9,
   "metadata": {},
   "outputs": [
    {
     "data": {
      "text/plain": [
       "array([[0.00000000e+00, 2.31455136e+02, 7.06553901e+00, 1.24734010e+01,\n",
       "        1.76942885e+02, 7.47242404e+01, 1.91647408e+01, 1.60585702e+02,\n",
       "        1.96760533e+02, 1.56569277e+01, 2.14897064e+01, 5.25924773e+01,\n",
       "        3.93780377e+00, 2.02422745e+02],\n",
       "       [2.25000000e+02, 2.33443180e+02, 6.28480049e+00, 3.65152319e+01,\n",
       "        1.76942885e+02, 6.96073723e+01, 1.73031005e+01, 1.60585702e+02,\n",
       "        1.87434032e+02, 1.97698870e+01, 2.14897064e+01, 5.36113391e+01,\n",
       "        3.93780377e+00, 2.42045839e+02],\n",
       "       [8.00000000e+02, 2.29467092e+02, 6.90939131e+00, 3.65152319e+01,\n",
       "        1.73675164e+02, 6.79626647e+01, 1.75690492e+01, 1.55495242e+02,\n",
       "        2.13340979e+02, 2.81243356e+01, 2.20597948e+01, 5.46302009e+01,\n",
       "        3.78081690e+00, 2.61064923e+02],\n",
       "       [1.51500000e+03, 2.25491003e+02, 6.59709590e+00, 3.48609419e+01,\n",
       "        1.72585924e+02, 6.48559948e+01, 1.65052547e+01, 1.58888882e+02,\n",
       "        2.07123312e+02, 2.52966761e+01, 2.23448391e+01, 4.95358918e+01,\n",
       "        3.30985629e+00, 1.99252898e+02],\n",
       "       [3.01300000e+03, 2.31455136e+02, 6.59709590e+00, 4.31323919e+01,\n",
       "        1.79121366e+02, 6.26630514e+01, 1.59733575e+01, 1.60585702e+02,\n",
       "        1.95724255e+02, 1.91272371e+01, 2.22023169e+01, 3.42529645e+01,\n",
       "        2.83889569e+00, 1.88158431e+02],\n",
       "       [3.74600000e+03, 2.31455136e+02, 6.44094820e+00, 4.47866818e+01,\n",
       "        1.78032126e+02, 3.30582817e+01, 8.40285252e+00, 1.58888882e+02,\n",
       "        2.06087034e+02, 1.55283977e+01, 2.24873612e+01, 3.01775172e+01,\n",
       "        2.36793508e+00, 1.92913203e+02],\n",
       "       [4.43400000e+03, 2.29467092e+02, 6.28480049e+00, 4.64409718e+01,\n",
       "        1.76942885e+02, 6.21148155e+01, 1.57074089e+01, 1.58888882e+02,\n",
       "        2.28885147e+02, 1.60425176e+01, 2.26298833e+01, 3.01775172e+01,\n",
       "        2.52492195e+00, 1.28376296e+02],\n",
       "       [4.78900000e+03, 2.37419269e+02, 7.06553901e+00, 4.80952618e+01,\n",
       "        1.83478327e+02, 3.51829240e+01, 8.95872372e+00, 9.04902773e+01,\n",
       "        1.66864866e+02, 1.06226882e+01, 1.32375622e+01, 3.01775172e+01,\n",
       "        2.68190882e+00, 2.16687059e+02],\n",
       "       [6.14000000e+03, 2.27479047e+02, 6.12865279e+00, 4.31323919e+01,\n",
       "        1.78032126e+02, 6.12010891e+01, 1.50425374e+01, 1.21882928e+02,\n",
       "        2.75517651e+02, 1.56569277e+01, 2.30574496e+01, 3.08025182e+01,\n",
       "        2.36793508e+00, 4.33821611e+02],\n",
       "       [7.49700000e+03, 2.35431225e+02, 7.22168672e+00, 4.31323919e+01,\n",
       "        1.81299846e+02, 6.32112872e+01, 1.59733575e+01, 1.62282522e+02,\n",
       "        2.34517070e+02, 1.48857478e+01, 2.27724054e+01, 3.01775172e+01,\n",
       "        2.36793508e+00, 2.10347364e+02],\n",
       "       [8.94000000e+03, 2.29467092e+02, 6.50556246e+00, 4.47866818e+01,\n",
       "        1.80210606e+02, 6.96073723e+01, 1.74360748e+01, 1.60585702e+02,\n",
       "        3.75000325e+02, 2.16978367e+01, 2.26298833e+01, 3.01775172e+01,\n",
       "        2.52492195e+00, 2.13517211e+02],\n",
       "       [9.49600000e+03, 2.29467092e+02, 8.00242524e+00, 4.47866818e+01,\n",
       "        1.78032126e+02, 5.23077828e+01, 1.33661830e+01, 1.38189996e+02,\n",
       "        2.79591010e+02, 1.56528795e+01, 2.04262391e+01, 3.32341027e+01,\n",
       "        2.68190882e+00, 2.08762440e+02],\n",
       "       [1.03780000e+04, 2.27479047e+02, 7.84627754e+00, 4.14781019e+01,\n",
       "        1.75853645e+02, 6.86936459e+01, 1.71701262e+01, 1.62282522e+02,\n",
       "        3.43911989e+02, 1.92557671e+01, 2.31999717e+01, 4.24038591e+01,\n",
       "        2.36793508e+00, 2.24611677e+02],\n",
       "       [1.18740000e+04, 2.35431225e+02, 8.00242524e+00, 3.81695219e+01,\n",
       "        1.75853645e+02, 5.40740228e+01, 1.37127944e+01, 1.60585702e+02,\n",
       "        3.90544493e+02, 2.01554770e+01, 2.36275381e+01, 7.29697137e+01,\n",
       "        2.21094821e+00, 2.37291067e+02],\n",
       "       [1.31610000e+04, 2.43383402e+02, 7.53398213e+00, 4.14781019e+01,\n",
       "        1.80210606e+02, 6.13838343e+01, 1.59733575e+01, 1.62282522e+02,\n",
       "        3.68782658e+02, 1.52713378e+01, 2.61553757e+01, 4.54604445e+01,\n",
       "        2.59925117e+00, 2.00837821e+02],\n",
       "       [1.46390000e+04, 3.00776578e+02, 7.06553901e+00, 3.98238119e+01,\n",
       "        1.76942885e+02, 5.79116739e+01, 1.51755117e+01, 1.62282522e+02,\n",
       "        3.23186432e+02, 1.27007382e+01, 2.37700602e+01, 2.40643463e+01,\n",
       "        2.05396134e+00, 2.23026754e+02],\n",
       "       [1.61490000e+04, 2.37419269e+02, 7.37783442e+00, 3.98238119e+01,\n",
       "        2.50075555e+02, 5.69979474e+01, 1.49095631e+01, 1.62282522e+02,\n",
       "        3.55311046e+02, 2.24904746e+01, 2.33424939e+01, 1.89700372e+01,\n",
       "        1.89697447e+00, 1.91328279e+02]])"
      ]
     },
     "execution_count": 9,
     "metadata": {},
     "output_type": "execute_result"
    }
   ],
   "source": [
    "X_filled_softimpute"
   ]
  },
  {
   "cell_type": "code",
   "execution_count": 25,
   "metadata": {},
   "outputs": [],
   "source": [
    "from sklearn.linear_model import LogisticRegression\n",
    "from sklearn.metrics import mean_squared_error, r2_score\n",
    "from sklearn.model_selection import train_test_split\n",
    "from sklearn import datasets\n",
    "\n",
    "y = values[:,13]\n",
    "x = np.delete(X_filled_softimpute, 0, 1)\n",
    "xtr,xt,ytr,yt=train_test_split(x, y, test_size=0.1, random_state=42)"
   ]
  },
  {
   "cell_type": "code",
   "execution_count": 27,
   "metadata": {},
   "outputs": [],
   "source": [
    "xtr[np.isnan(xtr)] = 0\n",
    "ytr[np.isnan(ytr)] = 0\n",
    "\n",
    "from sklearn import preprocessing\n",
    "from sklearn import utils\n",
    "\n",
    "lab_enc = preprocessing.LabelEncoder()\n",
    "\n",
    "encoded_ytr = lab_enc.fit_transform(ytr)\n",
    "\n",
    "from sklearn import tree\n",
    "\n",
    "clf = tree.DecisionTreeRegressor()\n",
    "clf = clf.fit(xtr,ytr)"
   ]
  },
  {
   "cell_type": "code",
   "execution_count": 28,
   "metadata": {},
   "outputs": [],
   "source": [
    "ytp=clf.predict(xt)"
   ]
  },
  {
   "cell_type": "code",
   "execution_count": 33,
   "metadata": {},
   "outputs": [
    {
     "name": "stdout",
     "output_type": "stream",
     "text": [
      "Decision tree MSE =  34009.462194284526 %\n"
     ]
    }
   ],
   "source": [
    "from sklearn.metrics import mean_squared_error\n",
    "print(\"Decision tree MSE = \" , mean_squared_error(yt, ytp)*100 , \"%\")"
   ]
  },
  {
   "cell_type": "code",
   "execution_count": 32,
   "metadata": {},
   "outputs": [
    {
     "name": "stdout",
     "output_type": "stream",
     "text": [
      "NB MSE =  34009.462194284526 %\n"
     ]
    }
   ],
   "source": [
    "from sklearn.neighbors import KNeighborsRegressor\n",
    "neigh = KNeighborsRegressor(n_neighbors=3)\n",
    "neigh.fit(xtr, ytr) \n",
    "ytp = neigh.predict(xt)\n",
    "print(\"NB MSE = \" , mean_squared_error(yt, ytp)*100 , \"%\")"
   ]
  }
 ],
 "metadata": {
  "kernelspec": {
   "display_name": "Python 3",
   "language": "python",
   "name": "python3"
  },
  "language_info": {
   "codemirror_mode": {
    "name": "ipython",
    "version": 3
   },
   "file_extension": ".py",
   "mimetype": "text/x-python",
   "name": "python",
   "nbconvert_exporter": "python",
   "pygments_lexer": "ipython3",
   "version": "3.6.8"
  }
 },
 "nbformat": 4,
 "nbformat_minor": 2
}
