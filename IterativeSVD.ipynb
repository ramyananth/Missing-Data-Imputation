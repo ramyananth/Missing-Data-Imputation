{
 "cells": [
  {
   "cell_type": "code",
   "execution_count": 1,
   "metadata": {},
   "outputs": [
    {
     "name": "stderr",
     "output_type": "stream",
     "text": [
      "Using TensorFlow backend.\n"
     ]
    }
   ],
   "source": [
    "import pandas as pd\n",
    "import numpy as np\n",
    "from fancyimpute import IterativeSVD\n",
    "from sklearn import svm\n",
    "from sklearn.metrics import mean_squared_error, r2_score\n",
    "from sklearn.model_selection import train_test_split\n",
    "from sklearn import datasets\n",
    "from sklearn.svm import SVC\n",
    "from sklearn.metrics import accuracy_score\n",
    "from sklearn.naive_bayes import GaussianNB"
   ]
  },
  {
   "cell_type": "code",
   "execution_count": 5,
   "metadata": {},
   "outputs": [
    {
     "data": {
      "text/html": [
       "<div>\n",
       "<style scoped>\n",
       "    .dataframe tbody tr th:only-of-type {\n",
       "        vertical-align: middle;\n",
       "    }\n",
       "\n",
       "    .dataframe tbody tr th {\n",
       "        vertical-align: top;\n",
       "    }\n",
       "\n",
       "    .dataframe thead th {\n",
       "        text-align: right;\n",
       "    }\n",
       "</style>\n",
       "<table border=\"1\" class=\"dataframe\">\n",
       "  <thead>\n",
       "    <tr style=\"text-align: right;\">\n",
       "      <th></th>\n",
       "      <th>time</th>\n",
       "      <th>X1</th>\n",
       "      <th>X2</th>\n",
       "      <th>X3</th>\n",
       "      <th>X4</th>\n",
       "      <th>X5</th>\n",
       "      <th>X6</th>\n",
       "      <th>X7</th>\n",
       "      <th>X8</th>\n",
       "      <th>X9</th>\n",
       "      <th>X10</th>\n",
       "      <th>X11</th>\n",
       "      <th>X12</th>\n",
       "      <th>X13</th>\n",
       "    </tr>\n",
       "  </thead>\n",
       "  <tbody>\n",
       "    <tr>\n",
       "      <td>0</td>\n",
       "      <td>0</td>\n",
       "      <td>231.455136</td>\n",
       "      <td>7.065539</td>\n",
       "      <td>NaN</td>\n",
       "      <td>176.942885</td>\n",
       "      <td>74.724240</td>\n",
       "      <td>19.164741</td>\n",
       "      <td>160.585702</td>\n",
       "      <td>196.760533</td>\n",
       "      <td>15.656928</td>\n",
       "      <td>21.489706</td>\n",
       "      <td>52.592477</td>\n",
       "      <td>3.937804</td>\n",
       "      <td>202.422745</td>\n",
       "    </tr>\n",
       "    <tr>\n",
       "      <td>1</td>\n",
       "      <td>225</td>\n",
       "      <td>233.443180</td>\n",
       "      <td>6.284800</td>\n",
       "      <td>36.515232</td>\n",
       "      <td>176.942885</td>\n",
       "      <td>69.607372</td>\n",
       "      <td>17.303101</td>\n",
       "      <td>160.585702</td>\n",
       "      <td>187.434032</td>\n",
       "      <td>19.769887</td>\n",
       "      <td>21.489706</td>\n",
       "      <td>53.611339</td>\n",
       "      <td>3.937804</td>\n",
       "      <td>242.045839</td>\n",
       "    </tr>\n",
       "    <tr>\n",
       "      <td>2</td>\n",
       "      <td>800</td>\n",
       "      <td>229.467092</td>\n",
       "      <td>6.909391</td>\n",
       "      <td>36.515232</td>\n",
       "      <td>173.675164</td>\n",
       "      <td>67.962665</td>\n",
       "      <td>17.569049</td>\n",
       "      <td>155.495242</td>\n",
       "      <td>213.340979</td>\n",
       "      <td>28.124336</td>\n",
       "      <td>22.059795</td>\n",
       "      <td>54.630201</td>\n",
       "      <td>3.780817</td>\n",
       "      <td>261.064923</td>\n",
       "    </tr>\n",
       "    <tr>\n",
       "      <td>3</td>\n",
       "      <td>1515</td>\n",
       "      <td>225.491003</td>\n",
       "      <td>6.597096</td>\n",
       "      <td>34.860942</td>\n",
       "      <td>172.585924</td>\n",
       "      <td>64.855995</td>\n",
       "      <td>16.505255</td>\n",
       "      <td>158.888882</td>\n",
       "      <td>207.123312</td>\n",
       "      <td>25.296676</td>\n",
       "      <td>22.344839</td>\n",
       "      <td>49.535892</td>\n",
       "      <td>3.309856</td>\n",
       "      <td>199.252898</td>\n",
       "    </tr>\n",
       "    <tr>\n",
       "      <td>4</td>\n",
       "      <td>3013</td>\n",
       "      <td>231.455136</td>\n",
       "      <td>6.597096</td>\n",
       "      <td>43.132392</td>\n",
       "      <td>179.121366</td>\n",
       "      <td>62.663051</td>\n",
       "      <td>15.973358</td>\n",
       "      <td>160.585702</td>\n",
       "      <td>195.724255</td>\n",
       "      <td>19.127237</td>\n",
       "      <td>22.202317</td>\n",
       "      <td>34.252965</td>\n",
       "      <td>2.838896</td>\n",
       "      <td>188.158431</td>\n",
       "    </tr>\n",
       "  </tbody>\n",
       "</table>\n",
       "</div>"
      ],
      "text/plain": [
       "   time          X1        X2         X3          X4         X5         X6  \\\n",
       "0     0  231.455136  7.065539        NaN  176.942885  74.724240  19.164741   \n",
       "1   225  233.443180  6.284800  36.515232  176.942885  69.607372  17.303101   \n",
       "2   800  229.467092  6.909391  36.515232  173.675164  67.962665  17.569049   \n",
       "3  1515  225.491003  6.597096  34.860942  172.585924  64.855995  16.505255   \n",
       "4  3013  231.455136  6.597096  43.132392  179.121366  62.663051  15.973358   \n",
       "\n",
       "           X7          X8         X9        X10        X11       X12  \\\n",
       "0  160.585702  196.760533  15.656928  21.489706  52.592477  3.937804   \n",
       "1  160.585702  187.434032  19.769887  21.489706  53.611339  3.937804   \n",
       "2  155.495242  213.340979  28.124336  22.059795  54.630201  3.780817   \n",
       "3  158.888882  207.123312  25.296676  22.344839  49.535892  3.309856   \n",
       "4  160.585702  195.724255  19.127237  22.202317  34.252965  2.838896   \n",
       "\n",
       "          X13  \n",
       "0  202.422745  \n",
       "1  242.045839  \n",
       "2  261.064923  \n",
       "3  199.252898  \n",
       "4  188.158431  "
      ]
     },
     "execution_count": 5,
     "metadata": {},
     "output_type": "execute_result"
    }
   ],
   "source": [
    "data = pd.read_csv(\"train_with_missing/1.csv\",index_col = False)\n",
    "data.head(5)"
   ]
  },
  {
   "cell_type": "code",
   "execution_count": 6,
   "metadata": {},
   "outputs": [
    {
     "data": {
      "text/plain": [
       "time    0\n",
       "X1      1\n",
       "X2      1\n",
       "X3      1\n",
       "X4      1\n",
       "X5      3\n",
       "X6      3\n",
       "X7      3\n",
       "X8      3\n",
       "X9      3\n",
       "X10     3\n",
       "X11     1\n",
       "X12     1\n",
       "X13     1\n",
       "dtype: int64"
      ]
     },
     "execution_count": 6,
     "metadata": {},
     "output_type": "execute_result"
    }
   ],
   "source": [
    "data.isnull().sum(axis = 0)"
   ]
  },
  {
   "cell_type": "code",
   "execution_count": 7,
   "metadata": {},
   "outputs": [
    {
     "data": {
      "text/plain": [
       "(17, 14)"
      ]
     },
     "execution_count": 7,
     "metadata": {},
     "output_type": "execute_result"
    }
   ],
   "source": [
    "values = data.values\n",
    "values.shape"
   ]
  },
  {
   "cell_type": "code",
   "execution_count": 9,
   "metadata": {},
   "outputs": [
    {
     "name": "stdout",
     "output_type": "stream",
     "text": [
      "[IterativeSVD] Iter 1: observed MAE=47.098860\n",
      "[IterativeSVD] Iter 2: observed MAE=9.093535\n",
      "[IterativeSVD] Iter 3: observed MAE=2.080180\n",
      "[IterativeSVD] Iter 4: observed MAE=0.381380\n",
      "[IterativeSVD] Iter 5: observed MAE=0.043635\n"
     ]
    }
   ],
   "source": [
    "X_filled_svd = IterativeSVD().fit_transform(values)"
   ]
  },
  {
   "cell_type": "code",
   "execution_count": 12,
   "metadata": {},
   "outputs": [
    {
     "data": {
      "text/plain": [
       "array([[0.00000000e+00, 2.31455136e+02, 7.06553901e+00, 4.06481436e+01,\n",
       "        1.76942885e+02, 7.47242404e+01, 1.91647408e+01, 1.60585702e+02,\n",
       "        1.96760533e+02, 1.56569277e+01, 2.14897064e+01, 5.25924773e+01,\n",
       "        3.93780377e+00, 2.02422745e+02],\n",
       "       [2.25000000e+02, 2.33443180e+02, 6.28480049e+00, 3.65152319e+01,\n",
       "        1.76942885e+02, 6.96073723e+01, 1.73031005e+01, 1.60585702e+02,\n",
       "        1.87434032e+02, 1.97698870e+01, 2.14897064e+01, 5.36113391e+01,\n",
       "        3.93780377e+00, 2.42045839e+02],\n",
       "       [8.00000000e+02, 2.29467092e+02, 6.90939131e+00, 3.65152319e+01,\n",
       "        1.73675164e+02, 6.79626647e+01, 1.75690492e+01, 1.55495242e+02,\n",
       "        2.13340979e+02, 2.81243356e+01, 2.20597948e+01, 5.46302009e+01,\n",
       "        3.78081690e+00, 2.61064923e+02],\n",
       "       [1.51500000e+03, 2.25491003e+02, 6.59709590e+00, 3.48609419e+01,\n",
       "        1.72585924e+02, 6.48559948e+01, 1.65052547e+01, 1.58888882e+02,\n",
       "        2.07123312e+02, 2.52966761e+01, 2.23448391e+01, 4.95358918e+01,\n",
       "        3.30985629e+00, 1.99252898e+02],\n",
       "       [3.01300000e+03, 2.31455136e+02, 6.59709590e+00, 4.31323919e+01,\n",
       "        1.79121366e+02, 6.26630514e+01, 1.59733575e+01, 1.60585702e+02,\n",
       "        1.95724255e+02, 1.91272371e+01, 2.22023169e+01, 3.42529645e+01,\n",
       "        2.83889569e+00, 1.88158431e+02],\n",
       "       [3.74600000e+03, 2.31455136e+02, 6.44094820e+00, 4.47866818e+01,\n",
       "        1.78032126e+02, 6.23499822e+01, 1.58324047e+01, 1.58888882e+02,\n",
       "        2.06087034e+02, 1.55283977e+01, 2.24873612e+01, 3.01775172e+01,\n",
       "        2.36793508e+00, 1.92913203e+02],\n",
       "       [4.43400000e+03, 2.29467092e+02, 6.28480049e+00, 4.64409718e+01,\n",
       "        1.76942885e+02, 6.21148155e+01, 1.57074089e+01, 1.58888882e+02,\n",
       "        2.28885147e+02, 1.60425176e+01, 2.26298833e+01, 3.01775172e+01,\n",
       "        2.52492195e+00, 1.89950453e+02],\n",
       "       [4.78900000e+03, 2.37419269e+02, 7.06553901e+00, 4.80952618e+01,\n",
       "        1.83478327e+02, 5.68588818e+01, 1.46777374e+01, 1.48565006e+02,\n",
       "        1.99514801e+02, 1.49752160e+01, 2.09684654e+01, 3.01775172e+01,\n",
       "        2.68190882e+00, 2.16687059e+02],\n",
       "       [6.14000000e+03, 2.27479047e+02, 6.12865279e+00, 4.31323919e+01,\n",
       "        1.78032126e+02, 6.12010891e+01, 1.50425374e+01, 1.70958314e+02,\n",
       "        2.75517651e+02, 1.56569277e+01, 2.30574496e+01, 5.37655851e+01,\n",
       "        2.36793508e+00, 4.33821611e+02],\n",
       "       [7.49700000e+03, 2.35431225e+02, 7.22168672e+00, 4.31323919e+01,\n",
       "        1.81299846e+02, 6.32112872e+01, 1.59733575e+01, 1.62282522e+02,\n",
       "        2.56845978e+02, 1.48857478e+01, 2.27724054e+01, 3.01775172e+01,\n",
       "        2.36793508e+00, 2.10347364e+02],\n",
       "       [8.94000000e+03, 2.29467092e+02, 7.82056920e+00, 4.47866818e+01,\n",
       "        1.80210606e+02, 6.96073723e+01, 1.74360748e+01, 1.60585702e+02,\n",
       "        3.75000325e+02, 2.16978367e+01, 2.26298833e+01, 3.01775172e+01,\n",
       "        2.52492195e+00, 2.13517211e+02],\n",
       "       [9.49600000e+03, 2.29467092e+02, 8.00242524e+00, 4.47866818e+01,\n",
       "        1.78032126e+02, 5.39659835e+01, 1.38598949e+01, 1.48690134e+02,\n",
       "        2.74096059e+02, 1.36908120e+01, 2.12067075e+01, 3.32341027e+01,\n",
       "        2.68190882e+00, 2.08762440e+02],\n",
       "       [1.03780000e+04, 2.27479047e+02, 7.84627754e+00, 4.14781019e+01,\n",
       "        1.75853645e+02, 6.86936459e+01, 1.71701262e+01, 1.62282522e+02,\n",
       "        3.43911989e+02, 1.92557671e+01, 2.31999717e+01, 4.24038591e+01,\n",
       "        2.36793508e+00, 2.24611677e+02],\n",
       "       [1.18740000e+04, 2.35431225e+02, 8.00242524e+00, 3.81695219e+01,\n",
       "        1.75853645e+02, 5.40740228e+01, 1.37127944e+01, 1.60585702e+02,\n",
       "        3.90544493e+02, 2.01554770e+01, 2.36275381e+01, 7.29697137e+01,\n",
       "        2.21094821e+00, 2.37291067e+02],\n",
       "       [1.31610000e+04, 2.43383402e+02, 7.53398213e+00, 4.14781019e+01,\n",
       "        1.80210606e+02, 6.13838343e+01, 1.59733575e+01, 1.62282522e+02,\n",
       "        3.68782658e+02, 1.52713378e+01, 2.36024092e+01, 4.54604445e+01,\n",
       "        2.37894487e+00, 2.00837821e+02],\n",
       "       [1.46390000e+04, 2.42898082e+02, 7.06553901e+00, 3.98238119e+01,\n",
       "        1.76942885e+02, 5.79116739e+01, 1.51755117e+01, 1.62282522e+02,\n",
       "        3.23186432e+02, 1.27007382e+01, 2.37700602e+01, 2.40643463e+01,\n",
       "        2.05396134e+00, 2.23026754e+02],\n",
       "       [1.61490000e+04, 2.37419269e+02, 7.37783442e+00, 3.98238119e+01,\n",
       "        1.82492176e+02, 5.69979474e+01, 1.49095631e+01, 1.62282522e+02,\n",
       "        3.55311046e+02, 1.31584284e+01, 2.33424939e+01, 1.89700372e+01,\n",
       "        1.89697447e+00, 1.91328279e+02]])"
      ]
     },
     "execution_count": 12,
     "metadata": {},
     "output_type": "execute_result"
    }
   ],
   "source": [
    "X_filled_svd"
   ]
  },
  {
   "cell_type": "code",
   "execution_count": 42,
   "metadata": {},
   "outputs": [],
   "source": [
    "y = values[:,13]\n",
    "x = np.delete(X_filled_svd, 0, 1)"
   ]
  },
  {
   "cell_type": "code",
   "execution_count": 43,
   "metadata": {},
   "outputs": [],
   "source": [
    "xtr,xt,ytr,yt=train_test_split(x, y, test_size=0.1, random_state=42)"
   ]
  },
  {
   "cell_type": "code",
   "execution_count": 48,
   "metadata": {},
   "outputs": [],
   "source": [
    "clf = svm.SVC(gamma='scale')\n",
    "X = np.array(xtr)\n",
    "y = np.array(ytr)\n",
    "from sklearn.svm import SVC\n",
    "clf = SVC(gamma='auto')\n",
    "X[np.isnan(X)] = 0\n",
    "y[np.isnan(y)] = 0"
   ]
  },
  {
   "cell_type": "code",
   "execution_count": 73,
   "metadata": {},
   "outputs": [
    {
     "name": "stdout",
     "output_type": "stream",
     "text": [
      "continuous\n",
      "multiclass\n",
      "multiclass\n"
     ]
    }
   ],
   "source": [
    "from sklearn import preprocessing\n",
    "from sklearn import utils\n",
    "\n",
    "lab_enc = preprocessing.LabelEncoder()\n",
    "\n",
    "encoded_y = lab_enc.fit_transform(y)\n",
    "\n",
    "print(utils.multiclass.type_of_target(y))\n",
    "print(utils.multiclass.type_of_target(y.astype('int')))\n",
    "print(utils.multiclass.type_of_target(encoded))"
   ]
  },
  {
   "cell_type": "code",
   "execution_count": 74,
   "metadata": {},
   "outputs": [
    {
     "data": {
      "text/plain": [
       "SVC(C=1.0, cache_size=200, class_weight=None, coef0=0.0,\n",
       "    decision_function_shape='ovr', degree=3, gamma='auto', kernel='rbf',\n",
       "    max_iter=-1, probability=False, random_state=None, shrinking=True,\n",
       "    tol=0.001, verbose=False)"
      ]
     },
     "execution_count": 74,
     "metadata": {},
     "output_type": "execute_result"
    }
   ],
   "source": [
    "clf.fit(X, encoded)"
   ]
  },
  {
   "cell_type": "code",
   "execution_count": 75,
   "metadata": {},
   "outputs": [
    {
     "name": "stdout",
     "output_type": "stream",
     "text": [
      "[ 4 13]\n"
     ]
    }
   ],
   "source": [
    "ytp = clf.predict(xt)\n",
    "print(ytp)\n"
   ]
  },
  {
   "cell_type": "code",
   "execution_count": 76,
   "metadata": {},
   "outputs": [
    {
     "name": "stdout",
     "output_type": "stream",
     "text": [
      "SVM MSE =  4591679.0954252845 %\n"
     ]
    }
   ],
   "source": [
    "from sklearn.metrics import mean_squared_error\n",
    "print(\"SVM MSE = \" , mean_squared_error(yt, ytp)*100 , \"%\")"
   ]
  },
  {
   "cell_type": "code",
   "execution_count": 77,
   "metadata": {},
   "outputs": [
    {
     "name": "stdout",
     "output_type": "stream",
     "text": [
      "Naive bayes MSE =  4591679.0954252845 %\n"
     ]
    }
   ],
   "source": [
    "xtr[np.isnan(xtr)] = 0\n",
    "ytr[np.isnan(ytr)] = 0\n",
    "encoded_ytr = lab_enc.fit_transform(y)\n",
    "\n",
    "\n",
    "gnb = GaussianNB()\n",
    "gnb.fit(xtr,encoded_ytr)\n",
    "ytp = gnb.predict(xt)\n",
    "print(\"Naive bayes MSE = \" , mean_squared_error(yt, ytp)*100 , \"%\")"
   ]
  }
 ],
 "metadata": {
  "kernelspec": {
   "display_name": "Python 3",
   "language": "python",
   "name": "python3"
  },
  "language_info": {
   "codemirror_mode": {
    "name": "ipython",
    "version": 3
   },
   "file_extension": ".py",
   "mimetype": "text/x-python",
   "name": "python",
   "nbconvert_exporter": "python",
   "pygments_lexer": "ipython3",
   "version": "3.6.8"
  }
 },
 "nbformat": 4,
 "nbformat_minor": 2
}
